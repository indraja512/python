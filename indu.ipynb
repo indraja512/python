{
  "nbformat": 4,
  "nbformat_minor": 0,
  "metadata": {
    "colab": {
      "name": "indu.ipynb",
      "provenance": [],
      "authorship_tag": "ABX9TyOyOoQmTgCBErf5unaLceNY",
      "include_colab_link": true
    },
    "kernelspec": {
      "name": "python3",
      "display_name": "Python 3"
    }
  },
  "cells": [
    {
      "cell_type": "markdown",
      "metadata": {
        "id": "view-in-github",
        "colab_type": "text"
      },
      "source": [
        "<a href=\"https://colab.research.google.com/github/indraja512/python/blob/master/indu.ipynb\" target=\"_parent\"><img src=\"https://colab.research.google.com/assets/colab-badge.svg\" alt=\"Open In Colab\"/></a>"
      ]
    },
    {
      "cell_type": "code",
      "metadata": {
        "id": "p5oTZd7PgHVQ",
        "colab_type": "code",
        "colab": {
          "base_uri": "https://localhost:8080/",
          "height": 85
        },
        "outputId": "55235569-6447-447e-b1c6-5d7fd9823945"
      },
      "source": [
        "list1=[1,2,3,4,5]\n",
        "print(max(list1))\n",
        "print(min(list1))\n",
        "print(sum(list1))\n",
        "#avg\n",
        "print(sum(list1)/len(list1))"
      ],
      "execution_count": 2,
      "outputs": [
        {
          "output_type": "stream",
          "text": [
            "5\n",
            "1\n",
            "15\n",
            "3.0\n"
          ],
          "name": "stdout"
        }
      ]
    },
    {
      "cell_type": "code",
      "metadata": {
        "id": "VgRUMX6Ogdmq",
        "colab_type": "code",
        "colab": {
          "base_uri": "https://localhost:8080/",
          "height": 119
        },
        "outputId": "d700970f-78fd-415e-c33b-6e92abde8a1e"
      },
      "source": [
        "list1=[1,2,3,4,5]\n",
        "list1.append(6)\n",
        "print(list1)\n",
        "print(list1.count(4))\n",
        "print(list1.index(2))\n",
        "list1.insert(3,15)\n",
        "print(list1)\n",
        "list1.sort()\n",
        "print(list1)\n",
        "list1.pop(4)\n",
        "print(list1)"
      ],
      "execution_count": 8,
      "outputs": [
        {
          "output_type": "stream",
          "text": [
            "[1, 2, 3, 4, 5, 6]\n",
            "1\n",
            "1\n",
            "[1, 2, 3, 15, 4, 5, 6]\n",
            "[1, 2, 3, 4, 5, 6, 15]\n",
            "[1, 2, 3, 4, 6, 15]\n"
          ],
          "name": "stdout"
        }
      ]
    },
    {
      "cell_type": "code",
      "metadata": {
        "id": "g2w5jfnsjZg2",
        "colab_type": "code",
        "colab": {
          "base_uri": "https://localhost:8080/",
          "height": 34
        },
        "outputId": "26c677d9-4bf0-468a-d975-c99aec4cfa62"
      },
      "source": [
        "#using function return large number from the list \n",
        "def largenumber(list1):\n",
        "  list1.sort()\n",
        "  return list1[-1]\n",
        "#generic largenumber\n",
        "  def genericlargenumber(list1,n):\n",
        "    list1.sort()\n",
        "    return list1[-n]\n",
        "print(list1,3)\n",
        "\n",
        "\n",
        "#generic largest number\n"
      ],
      "execution_count": 28,
      "outputs": [
        {
          "output_type": "stream",
          "text": [
            "[1, 2, 3, 4, 5] 3\n"
          ],
          "name": "stdout"
        }
      ]
    },
    {
      "cell_type": "code",
      "metadata": {
        "id": "hVteecPLjTqF",
        "colab_type": "code",
        "colab": {}
      },
      "source": [
        ""
      ],
      "execution_count": 0,
      "outputs": []
    }
  ]
}