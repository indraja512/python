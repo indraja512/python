{
  "nbformat": 4,
  "nbformat_minor": 0,
  "metadata": {
    "colab": {
      "name": "indu1.ipynb",
      "provenance": [],
      "collapsed_sections": [],
      "authorship_tag": "ABX9TyMUKCRikkdC1vD1V7x1elrW",
      "include_colab_link": true
    },
    "kernelspec": {
      "name": "python3",
      "display_name": "Python 3"
    }
  },
  "cells": [
    {
      "cell_type": "markdown",
      "metadata": {
        "id": "view-in-github",
        "colab_type": "text"
      },
      "source": [
        "<a href=\"https://colab.research.google.com/github/indraja512/python/blob/master/indu1.ipynb\" target=\"_parent\"><img src=\"https://colab.research.google.com/assets/colab-badge.svg\" alt=\"Open In Colab\"/></a>"
      ]
    },
    {
      "cell_type": "code",
      "metadata": {
        "id": "VcgDWXAMyMn1",
        "colab_type": "code",
        "colab": {}
      },
      "source": [
        ""
      ],
      "execution_count": 0,
      "outputs": []
    },
    {
      "cell_type": "markdown",
      "metadata": {
        "id": "TqJUcTg4yNgo",
        "colab_type": "text"
      },
      "source": [
        "# LOOPS\n",
        "\n",
        "1.   WHILE LOOP\n",
        "2.   FOR LOOP\n",
        "\n"
      ]
    },
    {
      "cell_type": "code",
      "metadata": {
        "id": "JdMSq8tjyQa7",
        "colab_type": "code",
        "colab": {
          "base_uri": "https://localhost:8080/",
          "height": 204
        },
        "outputId": "0979f7a6-4774-4f31-82b6-5be6dfac5cfc"
      },
      "source": [
        "#print the numbers from 1 to 10\n",
        "#input=10\n",
        "#output=1,2,3,4.......9,10\n",
        "n=int(input(\"enter a number\"))\n",
        "i=1\n",
        "while(i<=n):\n",
        "  print(i)\n",
        "  i=i+1"
      ],
      "execution_count": 67,
      "outputs": [
        {
          "output_type": "stream",
          "text": [
            "enter a number10\n",
            "1\n",
            "2\n",
            "3\n",
            "4\n",
            "5\n",
            "6\n",
            "7\n",
            "8\n",
            "9\n",
            "10\n"
          ],
          "name": "stdout"
        }
      ]
    },
    {
      "cell_type": "code",
      "metadata": {
        "id": "JeUHeS3vyUK6",
        "colab_type": "code",
        "colab": {
          "base_uri": "https://localhost:8080/",
          "height": 51
        },
        "outputId": "60749075-96e3-4342-9b33-c8facb80eb99"
      },
      "source": [
        "#print the sum of even numbers\n",
        "n=int(input(\"enter a number\"))\n",
        "i=1\n",
        "sum=0\n",
        "while(i<n):\n",
        "  if(i%2==0):\n",
        "    sum=sum+i\n",
        "  i=i+1\n",
        "print(sum)\n"
      ],
      "execution_count": 15,
      "outputs": [
        {
          "output_type": "stream",
          "text": [
            "enter a number10\n",
            "20\n"
          ],
          "name": "stdout"
        }
      ]
    },
    {
      "cell_type": "code",
      "metadata": {
        "id": "S5q9CkuM2tY5",
        "colab_type": "code",
        "colab": {
          "base_uri": "https://localhost:8080/",
          "height": 51
        },
        "outputId": "1e7ad89e-ca8d-4fd9-e3fa-dff7f9ce0c74"
      },
      "source": [
        "#print the numebr is palindrome or not\n",
        "n=int(input(\"enter a number\"))\n",
        "t=n\n",
        "r=0\n",
        "sum=0\n",
        "while(n>0):\n",
        "  digit=n%10\n",
        "  r=(r*10)+digit\n",
        "  n=n//10\n",
        "if(t==r):\n",
        "  print(\"palindrome\")\n",
        "else:\n",
        "  print(\"not palindrome\")    \n",
        "  "
      ],
      "execution_count": 20,
      "outputs": [
        {
          "output_type": "stream",
          "text": [
            "enter a number121\n",
            "palindrome\n"
          ],
          "name": "stdout"
        }
      ]
    },
    {
      "cell_type": "markdown",
      "metadata": {
        "id": "czCLZB9Y9Cum",
        "colab_type": "text"
      },
      "source": [
        "# functionalprogramming:\n",
        "\n",
        "*   simple\n",
        "*   easy to understand\n",
        "\n",
        "*  better reusability\n",
        "*   lengthy program will be divided into sub programs\n",
        "\n",
        "\n",
        "\n"
      ]
    },
    {
      "cell_type": "code",
      "metadata": {
        "id": "8f640Aa7-VfO",
        "colab_type": "code",
        "colab": {}
      },
      "source": [
        "def nameofthefunction(<parameter>):\n",
        "  statements\n",
        "  return\n",
        "  "
      ],
      "execution_count": 0,
      "outputs": []
    },
    {
      "cell_type": "code",
      "metadata": {
        "id": "I3QJzeo9-r5u",
        "colab_type": "code",
        "colab": {
          "base_uri": "https://localhost:8080/",
          "height": 51
        },
        "outputId": "870a7c34-1390-441b-fe05-bfd472f69d3d"
      },
      "source": [
        "n=int(input(\"enter a number\"))\n",
        "def sumofevendigits(n):\n",
        "  s=0\n",
        "  while(n!=0):\n",
        "    r=n%10\n",
        "    if(r%2==0):\n",
        "      s=s+r\n",
        "    n=n//10\n",
        "  return s\n",
        "sumofevendigits(n)     "
      ],
      "execution_count": 40,
      "outputs": [
        {
          "output_type": "stream",
          "text": [
            "enter a number128\n"
          ],
          "name": "stdout"
        },
        {
          "output_type": "execute_result",
          "data": {
            "text/plain": [
              "10"
            ]
          },
          "metadata": {
            "tags": []
          },
          "execution_count": 40
        }
      ]
    },
    {
      "cell_type": "code",
      "metadata": {
        "id": "4WMERiotCwtc",
        "colab_type": "code",
        "colab": {
          "base_uri": "https://localhost:8080/",
          "height": 51
        },
        "outputId": "8c55fb39-8444-4316-b22a-f3b1aa80832a"
      },
      "source": [
        "n=int(input(\"enter number\"))\n",
        "def greatestdigit(n):\n",
        "  larg=0\n",
        "  while(n!=0):\n",
        "    r=n%10\n",
        "    if(larg<r):\n",
        "     larg=r\n",
        "    n=n//10\n",
        "  return larg\n",
        "greatestdigit(n)    \n",
        "\n",
        "    "
      ],
      "execution_count": 47,
      "outputs": [
        {
          "output_type": "stream",
          "text": [
            "enter number128\n"
          ],
          "name": "stdout"
        },
        {
          "output_type": "execute_result",
          "data": {
            "text/plain": [
              "8"
            ]
          },
          "metadata": {
            "tags": []
          },
          "execution_count": 47
        }
      ]
    },
    {
      "cell_type": "markdown",
      "metadata": {
        "id": "VFAnoDlkIUH6",
        "colab_type": "text"
      },
      "source": [
        "# for loop\n",
        "syntax:\n"
      ]
    },
    {
      "cell_type": "code",
      "metadata": {
        "id": "DT7jm2S-IxMP",
        "colab_type": "code",
        "colab": {}
      },
      "source": [
        "for i in range(start,stop,step):\n",
        "  statements."
      ],
      "execution_count": 0,
      "outputs": []
    },
    {
      "cell_type": "code",
      "metadata": {
        "id": "wF8xN2kwJASt",
        "colab_type": "code",
        "colab": {
          "base_uri": "https://localhost:8080/",
          "height": 34
        },
        "outputId": "94b1a0ec-2beb-4b79-8522-59d9b95ca8e8"
      },
      "source": [
        "#print the numbers between Limits\n",
        "#input:11 to 25\n",
        "#output:11,12,13,14........25\n",
        "def printseries(f,l):\n",
        "  for i in range(f,l+1,5):\n",
        "    print(i,end=\" \")\n",
        "  return\n",
        "printseries(12,26)"
      ],
      "execution_count": 56,
      "outputs": [
        {
          "output_type": "stream",
          "text": [
            "12 17 22 "
          ],
          "name": "stdout"
        }
      ]
    },
    {
      "cell_type": "markdown",
      "metadata": {
        "id": "tNbFtxMfMsT-",
        "colab_type": "text"
      },
      "source": [
        "#collection types\n",
        "\n",
        "1.   List\n",
        "\n",
        "1.   Tuple\n",
        "2.  Dictionary \n",
        "\n",
        "\n",
        "2.   List item\n",
        "\n"
      ]
    },
    {
      "cell_type": "markdown",
      "metadata": {
        "id": "lbr8yppMNXMG",
        "colab_type": "text"
      },
      "source": [
        "# List\n",
        "\n",
        "*   one of the datastructure in python\n",
        "\n",
        "*   datastructure means to store,sort and search options.\n",
        "\n",
        "*   It's one common data structure in python ,the items of list separated by comma and enclosed by square brackets.\n",
        "\n",
        "\n",
        "1.List was immutable(i.e values we can change)\n",
        "\n",
        "\n",
        "*   ex:\n",
        "* list=[1,2,3,4]\n",
        "* list=[\"jntua\",\"cse\"]\n",
        "\n",
        "\n",
        "\n",
        "\n",
        "\n",
        "\n",
        "\n",
        "\n",
        "\n"
      ]
    },
    {
      "cell_type": "code",
      "metadata": {
        "id": "PahncmymPHmt",
        "colab_type": "code",
        "colab": {
          "base_uri": "https://localhost:8080/",
          "height": 85
        },
        "outputId": "f5710306-4a50-4a15-e752-2cb18b2639f3"
      },
      "source": [
        "list1=[1,2,3,4,5]\n",
        "print(list1[2])\n",
        "print(list1[1:])\n",
        "print(list1[1:4])\n",
        "print(list1[-3:-1])"
      ],
      "execution_count": 65,
      "outputs": [
        {
          "output_type": "stream",
          "text": [
            "3\n",
            "[2, 3, 4, 5]\n",
            "[2, 3, 4]\n",
            "[3, 4]\n"
          ],
          "name": "stdout"
        }
      ]
    },
    {
      "cell_type": "code",
      "metadata": {
        "id": "_qquT8F5Pujv",
        "colab_type": "code",
        "colab": {
          "base_uri": "https://localhost:8080/",
          "height": 34
        },
        "outputId": "05c7c3c5-d71f-4701-e9dc-1f7102bfbd53"
      },
      "source": [
        "list1=[\"jntua\",\"cse\",\"17001A0512\"]\n",
        "print(list1[-2])"
      ],
      "execution_count": 58,
      "outputs": [
        {
          "output_type": "stream",
          "text": [
            "cse\n"
          ],
          "name": "stdout"
        }
      ]
    },
    {
      "cell_type": "code",
      "metadata": {
        "id": "t5ZBBYHrQDqm",
        "colab_type": "code",
        "colab": {
          "base_uri": "https://localhost:8080/",
          "height": 34
        },
        "outputId": "3fce1b74-e2d5-4364-a0eb-4f30e7c1817b"
      },
      "source": [
        "list1=[\"jntua\",\"cse\",\"17001A0512\"]\n",
        "print(list1[-1])\n"
      ],
      "execution_count": 59,
      "outputs": [
        {
          "output_type": "stream",
          "text": [
            "17001A0512\n"
          ],
          "name": "stdout"
        }
      ]
    },
    {
      "cell_type": "code",
      "metadata": {
        "id": "v3P_BdrSbZRu",
        "colab_type": "code",
        "colab": {
          "base_uri": "https://localhost:8080/",
          "height": 51
        },
        "outputId": "7cd93d29-ea9a-441c-8ba8-a5f01d2438db"
      },
      "source": [
        "#update list\n",
        "list1=[1,\"jntua\",0,\"cse\",5]\n",
        "print(list1)\n",
        "list1[1]=\"cse\"\n",
        "print(list1)"
      ],
      "execution_count": 71,
      "outputs": [
        {
          "output_type": "stream",
          "text": [
            "[1, 'jntua', 0, 'cse', 5]\n",
            "[1, 'cse', 0, 'cse', 5]\n"
          ],
          "name": "stdout"
        }
      ]
    },
    {
      "cell_type": "code",
      "metadata": {
        "id": "u3ZqcPWycf5e",
        "colab_type": "code",
        "colab": {
          "base_uri": "https://localhost:8080/",
          "height": 34
        },
        "outputId": "80b75886-42fb-4324-bcfe-838b3107dbd9"
      },
      "source": [
        "#delete list\n",
        "list1=[1,2,3,4,5]\n",
        "del (list1[2])\n",
        "print(list1)"
      ],
      "execution_count": 74,
      "outputs": [
        {
          "output_type": "stream",
          "text": [
            "[1, 2, 4, 5]\n"
          ],
          "name": "stdout"
        }
      ]
    },
    {
      "cell_type": "code",
      "metadata": {
        "id": "rFNjDIhrc04o",
        "colab_type": "code",
        "colab": {
          "base_uri": "https://localhost:8080/",
          "height": 68
        },
        "outputId": "fb1d55ab-736b-4854-b41f-6e142d94b14e"
      },
      "source": [
        "#length of list\n",
        "list1=[1,2,3,4,5]\n",
        "print(len(list1))\n",
        "print(list1*2)\n",
        "print(4 in list1)\n"
      ],
      "execution_count": 85,
      "outputs": [
        {
          "output_type": "stream",
          "text": [
            "5\n",
            "[1, 2, 3, 4, 5, 1, 2, 3, 4, 5]\n",
            "True\n"
          ],
          "name": "stdout"
        }
      ]
    },
    {
      "cell_type": "markdown",
      "metadata": {
        "id": "5Xe_f_c2eJ_F",
        "colab_type": "text"
      },
      "source": [
        "#List functions\n",
        "\n",
        "*  max\n",
        "*   min\n",
        "\n",
        "*   sum\n",
        "*   append\n",
        "\n",
        "*    insert\n",
        "*   count\n",
        "*    index\n",
        "* sort\n",
        "* pop\n",
        "\n",
        "\n",
        "\n",
        "\n",
        "\n"
      ]
    }
  ]
}